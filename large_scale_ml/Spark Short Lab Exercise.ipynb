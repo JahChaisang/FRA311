{
 "cells": [
  {
   "cell_type": "markdown",
   "metadata": {},
   "source": [
    "# Spark Short Lab Exercise\n",
    "\n",
    "The following exercise is optional. You can complete it in class, at home. No grading.\n",
    "\n",
    "Setting up Hadoop and Spark in home computer can be a hard job. We won't be doing that today. We will use datascientistworkbench.com supported by IBM. It is a big data lab environment on cloud that you can access easily to test drive all the tools big data technology has to offer. Note that since the service is free, it is likely to be slow.\n",
    "\n",
    "1. Go to https://datascientistworkbench.com/ and log in\n",
    "2. Choose Jupyter Notebook (it will take a few minutes to load.\n",
    "3. After Jupyter is started, you will download all the data you need for the exercise from this Github folder:\n",
    "\n",
    "https://github.com/JahChaisang/FRA311/tree/master/large_scale_ml/data.zip\n",
    "\n",
    "4. Then you will upload the data to the IBM data scientist workbench by going to MyData menu on the top right-hand corner. Create new folder called 'lab' and upload the files in the directory.\n",
    "\n",
    "5. Then, you will import the notebook from github to IBM data scientist workbench.\n",
    "\n",
    "For Lab 1:\n",
    "\n",
    "Copy this url - https://raw.githubusercontent.com/JahChaisang/FRA311/master/large_scale_ml/PySpark%20Lab%201.ipynb\n",
    "\n",
    "Paste it in the search bar of IBM data scientist workbench.\n",
    "\n",
    "For Lab 2:\n",
    "\n",
    "Use this url - https://raw.githubusercontent.com/JahChaisang/FRA311/master/large_scale_ml/PySpark%20Lab%202.ipynb"
   ]
  }
 ],
 "metadata": {
  "kernelspec": {
   "display_name": "Python 2",
   "language": "python",
   "name": "python2"
  },
  "language_info": {
   "codemirror_mode": {
    "name": "ipython",
    "version": 2
   },
   "file_extension": ".py",
   "mimetype": "text/x-python",
   "name": "python",
   "nbconvert_exporter": "python",
   "pygments_lexer": "ipython2",
   "version": "2.7.10"
  }
 },
 "nbformat": 4,
 "nbformat_minor": 0
}
