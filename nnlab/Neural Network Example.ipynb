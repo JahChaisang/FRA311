{
 "cells": [
  {
   "cell_type": "markdown",
   "metadata": {},
   "source": [
    "# Extremely Simple Neural Network Model\n",
    "\n",
    "\n",
    "Let us first look at the most simple example of neural network model.\n",
    "\n",
    "I have prepared some data for our neural network model in data1.txt file. Let's see what data look like.\n",
    "\n",
    "1. We are going to load data using loadtxt which is a command of numpy\n",
    "2. We will put the first two columns of the data in x (features) and the last column in y (labels). And print out data size. \n",
    "3. We will plot x and y to visualize the data."
   ]
  },
  {
   "cell_type": "code",
   "execution_count": 4,
   "metadata": {
    "collapsed": false
   },
   "outputs": [
    {
     "name": "stdout",
     "output_type": "stream",
     "text": [
      "(5981, 2)\n",
      "(5981,)\n"
     ]
    }
   ],
   "source": [
    "%matplotlib inline\n",
    "import numpy as np\n",
    "\n",
    "data = np.loadtxt('data1.txt')\n",
    "\n",
    "x = data[:,0:2]\n",
    "y = data[:,2]\n",
    "\n",
    "print(x.shape)\n",
    "print(y.shape)"
   ]
  },
  {
   "cell_type": "markdown",
   "metadata": {},
   "source": [
    "Let's look at some samples of the data."
   ]
  },
  {
   "cell_type": "code",
   "execution_count": 5,
   "metadata": {
    "collapsed": false
   },
   "outputs": [
    {
     "name": "stdout",
     "output_type": "stream",
     "text": [
      "[[ 0.58257506  1.18113752]\n",
      " [-0.88954141  0.14197945]\n",
      " [-1.22452164 -1.90361244]\n",
      " [ 0.16276039  2.02338045]\n",
      " [ 0.98399643  0.85264902]\n",
      " [ 2.6293852   1.8917851 ]\n",
      " [ 0.91596541  0.61598208]\n",
      " [ 0.00758719  1.72375899]\n",
      " [-0.28153664 -0.3355608 ]\n",
      " [ 1.3065837   1.00932567]]\n"
     ]
    }
   ],
   "source": [
    "sample_x = x[0:10,:]\n",
    "sample_y = y[0:10]\n",
    "\n",
    "print(sample_x)"
   ]
  },
  {
   "cell_type": "code",
   "execution_count": 6,
   "metadata": {
    "collapsed": false
   },
   "outputs": [
    {
     "name": "stdout",
     "output_type": "stream",
     "text": [
      "[ 1.  1.  1.  0.  0.  0.  0.  0.  1.  0.]\n"
     ]
    }
   ],
   "source": [
    "print(sample_y)"
   ]
  },
  {
   "cell_type": "code",
   "execution_count": 7,
   "metadata": {
    "collapsed": false
   },
   "outputs": [
    {
     "data": {
      "text/plain": [
       "[<matplotlib.lines.Line2D at 0x1095c3b38>]"
      ]
     },
     "execution_count": 7,
     "metadata": {},
     "output_type": "execute_result"
    },
    {
     "data": {
      "image/png": "[encoded data removed]",
      "text/plain": [
       "<matplotlib.figure.Figure at 0x1095c3b70>"
      ]
     },
     "metadata": {},
     "output_type": "display_data"
    }
   ],
   "source": [
    "import matplotlib.pyplot as plt\n",
    "\n",
    "sample_x = x[0:50,:]\n",
    "sample_y = y[0:50]\n",
    "\n",
    "plt.plot(sample_x[sample_y == 1, 0], sample_x[sample_y == 1, 1], 'o', color='red', markersize=15)\n",
    "plt.plot(sample_x[sample_y == 0, 0], sample_x[sample_y == 0, 1], 'o', color='blue', markersize=15)"
   ]
  },
  {
   "cell_type": "markdown",
   "metadata": {},
   "source": [
    "# Use a trained neural network\n",
    "\n",
    "Suppose we have already trained the neural network. And we have the weights of the neurons. We can use out simple neural network to make predictions, as follow."
   ]
  },
  {
   "cell_type": "code",
   "execution_count": 8,
   "metadata": {
    "collapsed": false
   },
   "outputs": [
    {
     "name": "stdout",
     "output_type": "stream",
     "text": [
      "actual, predicted\n",
      "1.0, 0.0168351655073\n",
      "1.0, 0.916206053346\n",
      "1.0, 0.999396765994\n",
      "0.0, 0.0114291661025\n",
      "0.0, 0.00968264102776\n",
      "0.0, 9.10181083198e-06\n",
      "0.0, 0.0187262704255\n",
      "0.0, 0.0321040219337\n",
      "1.0, 0.818148622659\n",
      "0.0, 0.00272196597152\n"
     ]
    }
   ],
   "source": [
    "w = [-3.00217099, -1.96278325]\n",
    "def two_layer_nn(x, w):\n",
    "    yhat = np.zeros(x.shape[0])\n",
    "    for j in range(x.shape[0]):\n",
    "        z = x[j, 0]*w[0] + x[j, 1]*w[1]\n",
    "        yhat[j] = 1/(1+np.exp(-z))\n",
    "    return yhat\n",
    "\n",
    "\n",
    "yhat = two_layer_nn(x[0:10,:],w)\n",
    "print(\"actual, predicted\")\n",
    "for j in range(yhat.shape[0]):\n",
    "    print(str(y[j]) + ', ' + str(yhat[j]))"
   ]
  },
  {
   "cell_type": "markdown",
   "metadata": {},
   "source": [
    "How accurate is our neural network? Let's calculate classification accuracy."
   ]
  },
  {
   "cell_type": "code",
   "execution_count": 9,
   "metadata": {
    "collapsed": false
   },
   "outputs": [
    {
     "name": "stdout",
     "output_type": "stream",
     "text": [
      "accuracy = 94.5995652901 %\n"
     ]
    }
   ],
   "source": [
    "yhat = two_layer_nn(x,w)\n",
    "\n",
    "def accuracy(y, yhat):\n",
    "    yhat[yhat > 0.5] = 1\n",
    "    yhat[yhat < 0.5] = 0\n",
    "    return np.sum(y==yhat)*100/len(y)\n",
    "\n",
    "print(\"accuracy = \" + str(accuracy(y, yhat)) + ' %')"
   ]
  },
  {
   "cell_type": "markdown",
   "metadata": {},
   "source": [
    "# What happen if we adjust the weight?"
   ]
  },
  {
   "cell_type": "code",
   "execution_count": 16,
   "metadata": {
    "collapsed": false
   },
   "outputs": [
    {
     "name": "stdout",
     "output_type": "stream",
     "text": [
      "w1=[-1, 0.5] accuracy = 73.4158167531 %\n",
      "w2=[4, -1] accuracy = 16.0173883966 %\n"
     ]
    }
   ],
   "source": [
    "w1 = [-1, 0.5]\n",
    "yhat = two_layer_nn(x,w1)\n",
    "print(\"w1=\"+ str(w1) + \" accuracy = \" + str(accuracy(y, yhat)) + ' %')\n",
    "\n",
    "w2 = [4, -1]\n",
    "yhat = two_layer_nn(x,w2)\n",
    "print(\"w2=\"+ str(w2) + \" accuracy = \" + str(accuracy(y, yhat)) + ' %')"
   ]
  },
  {
   "cell_type": "markdown",
   "metadata": {},
   "source": [
    "# Two-layer neural network fits a linear decision boundary to the data\n",
    "\n",
    "Let's make a simple plot to show that neural network weights determine the decision boundary of the data."
   ]
  },
  {
   "cell_type": "code",
   "execution_count": 19,
   "metadata": {
    "collapsed": false
   },
   "outputs": [
    {
     "data": {
      "text/plain": [
       "[<matplotlib.lines.Line2D at 0x109e75588>]"
      ]
     },
     "execution_count": 19,
     "metadata": {},
     "output_type": "execute_result"
    },
    {
     "data": {
      "image/png": "[encoded data removed]",
      "text/plain": [
       "<matplotlib.figure.Figure at 0x109dbb908>"
      ]
     },
     "metadata": {},
     "output_type": "display_data"
    }
   ],
   "source": [
    "# plotting data\n",
    "sample_x = x[0:200,:]\n",
    "sample_y = y[0:200]\n",
    "\n",
    "plt.plot(sample_x[sample_y == 1, 0], sample_x[sample_y == 1, 1], 'o', color='red', markersize=15)\n",
    "plt.plot(sample_x[sample_y == 0, 0], sample_x[sample_y == 0, 1], 'o', color='blue', markersize=15)\n",
    "\n",
    "# plotting decision boundary\n",
    "def decision_bound(w):\n",
    "    lin_x = np.linspace(-3.0, 3.0, num=100)\n",
    "    lin_y = -w[0]*lin_x/w[1]\n",
    "    return lin_x, lin_y\n",
    "\n",
    "w = [-3.00217099, -1.96278325]\n",
    "lin_x, lin_y = decision_bound(w)\n",
    "plt.plot(lin_x, lin_y, color='green')\n",
    "\n",
    "lin_x, lin_y = decision_bound(w1)\n",
    "plt.plot(lin_x, lin_y, color='purple')\n",
    "\n",
    "lin_x, lin_y = decision_bound(w2)\n",
    "plt.plot(lin_x, lin_y, color='orange')\n"
   ]
  },
  {
   "cell_type": "markdown",
   "metadata": {},
   "source": [
    "# Neural Network Cost Function\n",
    "\n",
    "We often train neural network to classify using a cost function called cross entropy. Or log loss."
   ]
  },
  {
   "cell_type": "code",
   "execution_count": 20,
   "metadata": {
    "collapsed": false
   },
   "outputs": [
    {
     "name": "stdout",
     "output_type": "stream",
     "text": [
      "Log loss of the right model:\n",
      "0.14429210576\n",
      "Log loss of the wrong model:\n",
      "0.558227500864\n",
      "Log loss of the very wrong model:\n",
      "3.36352364845\n"
     ]
    }
   ],
   "source": [
    "from sklearn.metrics import log_loss\n",
    "\n",
    "yhat = two_layer_nn(x,w)\n",
    "print(\"Log loss of the right model:\")\n",
    "print(log_loss(y, yhat))\n",
    "\n",
    "yhat = two_layer_nn(x,w1)\n",
    "print(\"Log loss of the wrong model:\")\n",
    "print(log_loss(y, yhat))\n",
    "\n",
    "\n",
    "yhat = two_layer_nn(x,w2)\n",
    "print(\"Log loss of the very wrong model:\")\n",
    "print(log_loss(y, yhat))"
   ]
  }
 ],
 "metadata": {
  "kernelspec": {
   "display_name": "Python 3",
   "language": "python",
   "name": "python3"
  },
  "language_info": {
   "codemirror_mode": {
    "name": "ipython",
    "version": 3
   },
   "file_extension": ".py",
   "mimetype": "text/x-python",
   "name": "python",
   "nbconvert_exporter": "python",
   "pygments_lexer": "ipython3",
   "version": "3.5.2"
  }
 },
 "nbformat": 4,
 "nbformat_minor": 1
}
